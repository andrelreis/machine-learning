{
 "cells": [
  {
   "cell_type": "markdown",
   "id": "65b33c8a-3122-4ffb-945c-7375451380f5",
   "metadata": {},
   "source": [
    "# Loading data with pandas"
   ]
  },
  {
   "cell_type": "markdown",
   "id": "9f556350-2037-40ee-8693-4b9b8711698e",
   "metadata": {},
   "source": [
    "This notebook intends to show how to load some any data set by using it to train a machine learning model. The file format is a standard comma separated value (.csv) that is suitable for small in-memory datasets. Different from book, here I use pandas to manipulate the data. "
   ]
  },
  {
   "cell_type": "markdown",
   "id": "179a2b53-a365-4821-ade0-7e5ac6651811",
   "metadata": {},
   "source": [
    "## Import libraries"
   ]
  },
  {
   "cell_type": "code",
   "execution_count": 1,
   "id": "d784310f-692b-47c0-91d2-5a35e5e5583b",
   "metadata": {},
   "outputs": [],
   "source": [
    "import pandas as pd\n",
    "import numpy as np"
   ]
  },
  {
   "cell_type": "markdown",
   "id": "0573a0bc-2371-4d09-a358-950d8a4fa10a",
   "metadata": {},
   "source": [
    "## Loading data"
   ]
  },
  {
   "cell_type": "markdown",
   "id": "261315c5-277e-4c3d-9737-cf0eaa56ee64",
   "metadata": {},
   "source": [
    "### Pima indians diabetes dataset\n",
    "\n",
    "**Description**: This dataset intends to estimate the onset diabetes of a native american population (about [Akimel O'odham](https://en.wikipedia.org/wiki/Akimel_O%27odham)) given medical details.  There are 768 observations with 8 input variables and 1 output variable. The baseline performance of predicting is a classification accuracy of approximately 65%. Missing values are enconded with null values. Each feature names are as follows:\n",
    "\n",
    "1. Number of times pregnant\n",
    "2. Plasma glucose concentration a 2 hours in an oral glucose tolerance test\n",
    "3. Diastolic blood pressure (mm Hg)\n",
    "4. Triceps skinfold thickness (mm)\n",
    "5. 2-Hour serum insulin (mu U/ml)\n",
    "6. Body mass index (weight in Kg/(height in m)ˆ2)\n",
    "7. Diabetes pedigree function\n",
    "8. Age (years)"
   ]
  },
  {
   "cell_type": "code",
   "execution_count": 2,
   "id": "5fd122a6-f4de-4b20-a4a3-450be4c341d9",
   "metadata": {},
   "outputs": [],
   "source": [
    "fname_pima = 'data_set/pima-indians-diabetes.csv'"
   ]
  },
  {
   "cell_type": "code",
   "execution_count": 3,
   "id": "f407fddb-7631-4594-bb2a-64ecdf78d4fa",
   "metadata": {},
   "outputs": [],
   "source": [
    "names = ['pregnant', 'glucose', 'pressure', 'triceps', 'insulin', 'BMI', 'pedigree', 'age']"
   ]
  },
  {
   "cell_type": "code",
   "execution_count": 4,
   "id": "4c7d7afa-49f1-4739-9b60-9fe6f1500fc3",
   "metadata": {},
   "outputs": [],
   "source": [
    "pima = pd.read_csv(fname_pima,usecols=(0,1,2,3,4,5,6,7),names=names,dtype={'pregnant': np.int64,\n",
    "                                                                           'glucose': np.float64,\n",
    "                                                                           'presure': np.float64,\n",
    "                                                                           'triceps': np.float64,\n",
    "                                                                           'insulin': np.float64,\n",
    "                                                                           'BMI': np.float64,\n",
    "                                                                           'pedigree': np.float64,\n",
    "                                                                           'age': np.int64})"
   ]
  },
  {
   "cell_type": "code",
   "execution_count": 5,
   "id": "a450a142-122d-4d11-b478-c2986218466d",
   "metadata": {},
   "outputs": [],
   "source": [
    "data_pima = pd.DataFrame(pima)"
   ]
  },
  {
   "cell_type": "markdown",
   "id": "4c72bde2-d15b-4743-ad67-782a99691ef4",
   "metadata": {},
   "source": [
    "## Iris flower dataset\n",
    "\n",
    "**Description**: The Iris Flower datset consists of predicting the flower species from the measurements of iris flowers (about [Iris (plant)](https://en.wikipedia.org/wiki/Iris_(plant))) dimensions. The baseline prediction is a classification accuracy of approximately 26%. There are 150 observations with four input variables and 1 output variable. These feature names are as follows:\n",
    "\n",
    "1. Sepal length (cm)\n",
    "2. Sepal width (cm)\n",
    "3. Petal length (cm)\n",
    "4. Petal width (cm)\n",
    "5. Class (Setosa, Versicolour or Virginica)"
   ]
  },
  {
   "cell_type": "code",
   "execution_count": 6,
   "id": "9c5ea85f-e02c-4406-8778-1a0136a8c710",
   "metadata": {},
   "outputs": [],
   "source": [
    "fname_iris = 'data_set/iris.csv'"
   ]
  },
  {
   "cell_type": "code",
   "execution_count": 7,
   "id": "92279a92-4087-4fef-81f6-32fc0ad59dab",
   "metadata": {},
   "outputs": [],
   "source": [
    "names = ['sepal-len','sepal-wid','petal-len','petal-wid','species']"
   ]
  },
  {
   "cell_type": "code",
   "execution_count": 8,
   "id": "2cd9b697-9389-48b7-8779-9421aa8aed65",
   "metadata": {},
   "outputs": [],
   "source": [
    "iris = pd.read_csv(fname_iris,usecols=(0,1,2,3,4),names=names,dtype={'sepal-len': np.float64,\n",
    "                                                                     'sepal-wid': np.float64,\n",
    "                                                                     'petal-len': np.float64,\n",
    "                                                                     'petal-wid': np.float64,\n",
    "                                                                     'species': str})"
   ]
  },
  {
   "cell_type": "code",
   "execution_count": 9,
   "id": "57f4ac38-3d2e-42d0-b0f7-4c15393dd49f",
   "metadata": {},
   "outputs": [],
   "source": [
    "data_iris = pd.DataFrame(iris)"
   ]
  },
  {
   "cell_type": "markdown",
   "id": "31d5036f-0302-4291-8bbd-52fa9ea587ce",
   "metadata": {},
   "source": [
    "### Converting Species strings to integer values for categorical data"
   ]
  },
  {
   "cell_type": "code",
   "execution_count": 10,
   "id": "50a09d5a-f3bb-4557-9c2f-c9ade27b5d2c",
   "metadata": {},
   "outputs": [],
   "source": [
    "categories = ['Iris-setosa', 'Iris-versicolor', 'Iris-virginica']"
   ]
  },
  {
   "cell_type": "code",
   "execution_count": 11,
   "id": "759c54d3-3d65-4edd-a4aa-faa52f8783dc",
   "metadata": {},
   "outputs": [],
   "source": [
    "categorical = pd.Categorical(data_iris['species'],categories=categories)"
   ]
  },
  {
   "cell_type": "code",
   "execution_count": 12,
   "id": "13da8f15-4065-40aa-b9a2-5f6cb8c35998",
   "metadata": {},
   "outputs": [],
   "source": [
    "data_iris['species'] = pd.factorize(categorical)[0]"
   ]
  }
 ],
 "metadata": {
  "kernelspec": {
   "display_name": "Python 3 (ipykernel)",
   "language": "python",
   "name": "python3"
  },
  "language_info": {
   "codemirror_mode": {
    "name": "ipython",
    "version": 3
   },
   "file_extension": ".py",
   "mimetype": "text/x-python",
   "name": "python",
   "nbconvert_exporter": "python",
   "pygments_lexer": "ipython3",
   "version": "3.11.5"
  }
 },
 "nbformat": 4,
 "nbformat_minor": 5
}
